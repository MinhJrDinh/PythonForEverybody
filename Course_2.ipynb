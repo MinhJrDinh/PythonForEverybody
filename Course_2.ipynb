{
 "cells": [
  {
   "cell_type": "markdown",
   "metadata": {},
   "source": [
    "# 2. 👨‍💻 Data Structures "
   ]
  },
  {
   "cell_type": "markdown",
   "metadata": {},
   "source": [
    "## 6. 1 Strings"
   ]
  },
  {
   "cell_type": "code",
   "execution_count": null,
   "metadata": {},
   "outputs": [
    {
     "name": "stdout",
     "output_type": "stream",
     "text": [
      "a\n",
      "n\n",
      "6\n",
      "0 b\n",
      "1 a\n",
      "2 n\n",
      "3 a\n",
      "4 n\n",
      "5 a\n",
      "b\n",
      "a\n",
      "n\n",
      "a\n",
      "n\n",
      "a\n"
     ]
    }
   ],
   "source": [
    "fruit = 'banana'\n",
    "letter = fruit[1]\n",
    "print(letter)\n",
    "\n",
    "x = 3\n",
    "w = fruit[x - 1]\n",
    "print(w)\n",
    "\n",
    "print(len(fruit))\n",
    "\n",
    "# Looping through strings:\n",
    "idx = 0 \n",
    "len(fruit)\n",
    "while idx < len(fruit):\n",
    "    letter = fruit[idx]\n",
    "    print(idx, letter)\n",
    "    idx = idx + 1 \n",
    "    \n",
    "# better method of looping unless u need flexibility:\n",
    "for letter in fruit:\n",
    "    print(letter)"
   ]
  },
  {
   "cell_type": "markdown",
   "metadata": {},
   "source": [
    "### Looping and Counting"
   ]
  },
  {
   "cell_type": "code",
   "execution_count": null,
   "metadata": {},
   "outputs": [
    {
     "name": "stdout",
     "output_type": "stream",
     "text": [
      "3\n"
     ]
    }
   ],
   "source": [
    "word = 'banana'\n",
    "count = 0\n",
    "for letter in word: \n",
    "    if letter == 'a': \n",
    "        count = count + 1 \n",
    "print(count)"
   ]
  },
  {
   "cell_type": "markdown",
   "metadata": {},
   "source": [
    "### Slicing Strings"
   ]
  },
  {
   "cell_type": "code",
   "execution_count": null,
   "metadata": {},
   "outputs": [
    {
     "name": "stdout",
     "output_type": "stream",
     "text": [
      "Mont\n",
      "P\n",
      "Python\n"
     ]
    }
   ],
   "source": [
    "s = 'Monty Python'\n",
    "\n",
    "print(s[0:4]) # prints index 0-3\n",
    "\n",
    "print(s[6:7]) # prints character at index 6\n",
    "\n",
    "print(s[6:20]) # prints index 6-19\n",
    "\n",
    "# rememeber the second number is non-inclusive [ : )"
   ]
  },
  {
   "cell_type": "markdown",
   "metadata": {},
   "source": [
    "## 6.2 Manipulating strings"
   ]
  },
  {
   "cell_type": "markdown",
   "metadata": {},
   "source": [
    "#### Using `in` as a Logical Operator "
   ]
  },
  {
   "cell_type": "code",
   "execution_count": null,
   "metadata": {},
   "outputs": [
    {
     "name": "stdout",
     "output_type": "stream",
     "text": [
      "True\n",
      "Found it!\n"
     ]
    }
   ],
   "source": [
    "fruit = 'banana'\n",
    "print('nan' in fruit)\n",
    "if 'a' in fruit:\n",
    "    print('Found it!')"
   ]
  },
  {
   "cell_type": "markdown",
   "metadata": {},
   "source": [
    "### String Comparison"
   ]
  },
  {
   "cell_type": "code",
   "execution_count": null,
   "metadata": {},
   "outputs": [
    {
     "name": "stdout",
     "output_type": "stream",
     "text": [
      "Your word, x, comes after banana\n"
     ]
    }
   ],
   "source": [
    "word = 'x'\n",
    "\n",
    "if word == 'banana':\n",
    "    print('All right, bananas.')\n",
    "\n",
    "if word < 'banana':\n",
    "    print('Your word, ' + word + ', comes before banana')\n",
    "elif word > 'banana':\n",
    "    print('Your word, ' + word + ', comes after banana')\n",
    "else:\n",
    "    print('All right, bananas.')\n",
    "\n",
    "# note: uppercase letters are less than lowercase (A < a)"
   ]
  },
  {
   "cell_type": "markdown",
   "metadata": {},
   "source": [
    "### String Library Functions"
   ]
  },
  {
   "cell_type": "code",
   "execution_count": null,
   "metadata": {},
   "outputs": [
    {
     "name": "stdout",
     "output_type": "stream",
     "text": [
      "hello bob\n",
      "hi there\n"
     ]
    }
   ],
   "source": [
    "greet = 'Hello Bob'\n",
    "zap = greet.lower() \n",
    "print(zap)\n",
    "# call function lower and pass greet into it\n",
    "\n",
    "print('HI THERE'.lower())\n",
    "# can pass a constant to lower()"
   ]
  },
  {
   "cell_type": "code",
   "execution_count": null,
   "metadata": {},
   "outputs": [
    {
     "data": {
      "text/plain": [
       "'Hello world'"
      ]
     },
     "metadata": {},
     "output_type": "display_data"
    }
   ],
   "source": [
    "stuff = 'hello world'\n",
    "type(stuff) # tells u class string (str)\n",
    "# dir(stuff) tells methods u can do in class str \n",
    "\n",
    "stuff.capitalize() # capitalizes 1st letter only \n"
   ]
  },
  {
   "cell_type": "markdown",
   "metadata": {},
   "source": [
    "### Searching a String"
   ]
  },
  {
   "cell_type": "code",
   "execution_count": null,
   "metadata": {},
   "outputs": [
    {
     "name": "stdout",
     "output_type": "stream",
     "text": [
      "2\n",
      "-1\n"
     ]
    }
   ],
   "source": [
    "fruit = 'banana'\n",
    "idx = fruit.find('na')\n",
    "print(idx)\n",
    "\n",
    "idx2 = fruit.find('z')\n",
    "print(idx2)"
   ]
  },
  {
   "cell_type": "markdown",
   "metadata": {},
   "source": [
    "- use find() to search for substr in a str \n",
    "- finds first occurence index of substr only \n",
    "- if not found, returns -1 "
   ]
  },
  {
   "cell_type": "markdown",
   "metadata": {},
   "source": [
    "### Search & Replace"
   ]
  },
  {
   "cell_type": "code",
   "execution_count": null,
   "metadata": {},
   "outputs": [
    {
     "name": "stdout",
     "output_type": "stream",
     "text": [
      "Hello Jane\n",
      "HellX BXb\n"
     ]
    }
   ],
   "source": [
    "greet = 'Hello Bob'\n",
    "nstr = greet.replace('Bob', 'Jane')\n",
    "print(nstr)\n",
    "nstr = greet.replace('o', 'X')\n",
    "print(nstr)"
   ]
  },
  {
   "cell_type": "markdown",
   "metadata": {},
   "source": [
    "- replace() replaces `all` instances of Bob to Jane"
   ]
  },
  {
   "cell_type": "markdown",
   "metadata": {},
   "source": [
    "### Stripping Whitespace"
   ]
  },
  {
   "cell_type": "code",
   "execution_count": null,
   "metadata": {},
   "outputs": [
    {
     "name": "stdout",
     "output_type": "stream",
     "text": [
      "Hello Bob      \n",
      "     Hello Bob\n"
     ]
    },
    {
     "data": {
      "text/plain": [
       "'Hello Bob'"
      ]
     },
     "metadata": {},
     "output_type": "display_data"
    }
   ],
   "source": [
    "# lstrip() and rstrip() remove whitespace at left or right\n",
    "# strip() removes both beginning & end whitespace\n",
    "\n",
    "greet = '     Hello Bob      '\n",
    "print(greet.lstrip())\n",
    "print(greet.rstrip())\n",
    "greet.strip()"
   ]
  },
  {
   "cell_type": "markdown",
   "metadata": {},
   "source": [
    "### `startswith()`"
   ]
  },
  {
   "cell_type": "code",
   "execution_count": null,
   "metadata": {},
   "outputs": [
    {
     "name": "stdout",
     "output_type": "stream",
     "text": [
      "True\n"
     ]
    },
    {
     "data": {
      "text/plain": [
       "False"
      ]
     },
     "metadata": {},
     "output_type": "display_data"
    }
   ],
   "source": [
    "line = 'Please have a nice day'\n",
    "print(line.startswith('Please'))\n",
    "line.startswith('p')"
   ]
  },
  {
   "cell_type": "markdown",
   "metadata": {},
   "source": [
    "### Extracting String"
   ]
  },
  {
   "cell_type": "code",
   "execution_count": null,
   "metadata": {},
   "outputs": [
    {
     "name": "stdout",
     "output_type": "stream",
     "text": [
      "21\n",
      "31\n",
      "uct.ac.za\n"
     ]
    }
   ],
   "source": [
    "data = 'From stephen.marquard@uct.ac.za Sat Jan'\n",
    "# want to extract uct.ac.za - first find the idx range\n",
    "\n",
    "start = data.find('@')\n",
    "print(start)\n",
    "# finds idx of first @\n",
    "\n",
    "end = data.find(' ', start) \n",
    "print(end)\n",
    "# second parameter of find() is where to start searching\n",
    "# here we tell find() to start at @ \n",
    "\n",
    "host = data[start+1 : end]\n",
    "print(host)\n",
    "# slice the boundary 22 (not incl. @) to 31 (not incl. space)\n"
   ]
  },
  {
   "cell_type": "markdown",
   "metadata": {},
   "source": [
    "***"
   ]
  },
  {
   "cell_type": "markdown",
   "metadata": {},
   "source": [
    "## Assignment 6.5\n",
    "Take number from following python code and store as float:\n",
    "\n",
    "`str = 'X-DSPAM-Confidence: 0.8475'`"
   ]
  },
  {
   "cell_type": "code",
   "execution_count": null,
   "metadata": {},
   "outputs": [
    {
     "name": "stdout",
     "output_type": "stream",
     "text": [
      "19\n",
      " 0.8475\n",
      "25\n",
      " 0.847\n",
      "0.8475\n",
      "42.8475\n"
     ]
    }
   ],
   "source": [
    "str =  'X-DSPAM-Confidence: 0.8475'\n",
    "start = str.find(' ')\n",
    "print(start)\n",
    "print(str[start:])\n",
    "\n",
    "end = str.find('5', start)\n",
    "print(end)\n",
    "print(str[start : end])\n",
    "\n",
    "num = str[start+1 : end+1] # remember end is non-incl. \n",
    "num = float(num)\n",
    "print(num)\n",
    "\n",
    "print(num + 42.0) # confirms its a float"
   ]
  },
  {
   "cell_type": "markdown",
   "metadata": {},
   "source": [
    "***"
   ]
  },
  {
   "cell_type": "markdown",
   "metadata": {},
   "source": [
    "## 7.1 Files"
   ]
  },
  {
   "cell_type": "markdown",
   "metadata": {},
   "source": [
    "- Before we can read file contents, must tell python which files will be used and what will be done \n",
    "- `open()` function returns a `\"file handle\"` (variable used to perform operations on file)\n",
    "- Similar to \"File -> Open\" in Word\n",
    "\n",
    "Using Open()\n",
    "- handle = open(`filename`, `mode`)\n",
    "    - returns a handle use to manipulate file \n",
    "    - `filename` is a str \n",
    "    - `mode` is optional, `r` if read file, `w` if write file\n",
    "\n",
    "Example:\n",
    "fhand = open(`'mbox.txt`, `r`)\n",
    "\n",
    "What is a Handle?\n",
    "- Just a way to get to file but not the actual data "
   ]
  },
  {
   "cell_type": "markdown",
   "metadata": {},
   "source": [
    "#### The Newline Character `\\n`"
   ]
  },
  {
   "cell_type": "code",
   "execution_count": null,
   "metadata": {},
   "outputs": [
    {
     "name": "stdout",
     "output_type": "stream",
     "text": [
      "Hello\n",
      "World!\n"
     ]
    },
    {
     "data": {
      "text/plain": [
       "12"
      ]
     },
     "metadata": {},
     "output_type": "display_data"
    }
   ],
   "source": [
    "stuff = 'Hello\\nWorld!'\n",
    "print(stuff)\n",
    "len(stuff)\n",
    "\n"
   ]
  },
  {
   "cell_type": "markdown",
   "metadata": {},
   "source": [
    "- \\n is still 1 character not 2\n",
    "- \\n is a whitespace \n",
    "- Files are long str of characters with \\n at end of line "
   ]
  },
  {
   "cell_type": "markdown",
   "metadata": {},
   "source": [
    "## 7.2 Processing Files"
   ]
  },
  {
   "cell_type": "code",
   "execution_count": null,
   "metadata": {},
   "outputs": [],
   "source": [
    "xfile = open('mbox.txt')\n",
    "for cheese in xfile: \n",
    "    print(cheese)\n",
    "# cheese is a variable that holds each line of the file one at a time, can be named anything"
   ]
  },
  {
   "cell_type": "markdown",
   "metadata": {},
   "source": [
    "- file handle open for read treated as `sequence` of lines \n",
    "- can use for statement to iterate through `sequence` of lines\n",
    "- Rememeber a `sequence` is an ordered set "
   ]
  },
  {
   "cell_type": "markdown",
   "metadata": {},
   "source": [
    "### Counting Lines in a File"
   ]
  },
  {
   "cell_type": "code",
   "execution_count": null,
   "metadata": {},
   "outputs": [],
   "source": [
    "fhand = open('mbox.txt')\n",
    "count = 0\n",
    "for line in fhand:\n",
    "    count = count + 1\n",
    "print('Line count:', count)"
   ]
  },
  {
   "cell_type": "markdown",
   "metadata": {},
   "source": [
    "### Reading the `Whole` File"
   ]
  },
  {
   "cell_type": "code",
   "execution_count": null,
   "metadata": {},
   "outputs": [
    {
     "name": "stdout",
     "output_type": "stream",
     "text": [
      "94626\n",
      "From stephen.marquar\n"
     ]
    }
   ],
   "source": [
    "fhand = open('mbox-short.txt')\n",
    "inp = fhand.read() # store entire file into inp\n",
    "print(len(inp)) \n",
    "print(inp[:20]) # prints first 20 chars of whole file"
   ]
  },
  {
   "cell_type": "markdown",
   "metadata": {},
   "source": [
    "- Does not split into lines, shows \\n too\n",
    "- Whereas for loop splits into lines"
   ]
  },
  {
   "cell_type": "markdown",
   "metadata": {},
   "source": [
    "### Searching Through a File"
   ]
  },
  {
   "cell_type": "code",
   "execution_count": null,
   "metadata": {},
   "outputs": [],
   "source": [
    "fhand = open('mbox.txt')\n",
    "for line in fhand:\n",
    "    if line.startswith('From'):\n",
    "        print(line)\n",
    "# creates search operation through file, iterates by line\n",
    "# print() adds a newline so unneeded empty line"
   ]
  },
  {
   "cell_type": "markdown",
   "metadata": {},
   "source": [
    "### `rstrip()` to Remove Newline"
   ]
  },
  {
   "cell_type": "code",
   "execution_count": null,
   "metadata": {},
   "outputs": [],
   "source": [
    "# To remove empty newline made from print, use rstrip()\n",
    "fhand = open('mbox.txt')\n",
    "for line in fhand:\n",
    "    line = line.rstrip()\n",
    "    if line.startswith('From'):\n",
    "        print(line)"
   ]
  },
  {
   "cell_type": "markdown",
   "metadata": {},
   "source": [
    "### Alternative: Skipping with Continue"
   ]
  },
  {
   "cell_type": "code",
   "execution_count": null,
   "metadata": {},
   "outputs": [],
   "source": [
    "fhand = open('mbox.txt')\n",
    "for line in fhand:\n",
    "    line = line.rstrip()\n",
    "    if not line.startswith('From'):\n",
    "        continue\n",
    "    print(line)\n",
    "# Lines that don't start with From are skipped \n",
    "# Only lines that start with From are printed"
   ]
  },
  {
   "cell_type": "markdown",
   "metadata": {},
   "source": [
    "### Using `in` to Select `lines`"
   ]
  },
  {
   "cell_type": "code",
   "execution_count": null,
   "metadata": {},
   "outputs": [],
   "source": [
    "fhand = open('mbox.txt')\n",
    "for line in fhand:\n",
    "    line = line.rstrip()\n",
    "    if not '@uxt.ac.za' in line:\n",
    "        continue\n",
    "    print(line)"
   ]
  },
  {
   "cell_type": "markdown",
   "metadata": {},
   "source": [
    "### Prompt for File Name"
   ]
  },
  {
   "cell_type": "code",
   "execution_count": null,
   "metadata": {},
   "outputs": [],
   "source": [
    "fname = input('Enter file name: ')\n",
    "try: \n",
    "    fhand = open(fname)\n",
    "except: \n",
    "    # if user enters a bad file name\n",
    "    print('File cannot be opened', fname)\n",
    "    quit() \n",
    "    # code after isn't run \n",
    "count = 0\n",
    "for line in fhand \n",
    "    if line startswith('Subject:'):\n",
    "        count = count + 1\n",
    "print('There were', count, 'subject lines in', fname)\n",
    "\n",
    "# could use a while loop to ask for input again after\n",
    "# bad file name given "
   ]
  },
  {
   "cell_type": "markdown",
   "metadata": {},
   "source": [
    "***"
   ]
  },
  {
   "cell_type": "markdown",
   "metadata": {},
   "source": [
    "## Assignment 7.1\n",
    "Write a program to read through a file and print the contents of the file (line by line) all in uppercase."
   ]
  },
  {
   "cell_type": "code",
   "execution_count": null,
   "metadata": {},
   "outputs": [],
   "source": [
    "fh = open('mbox-short.txt')\n",
    "# just a file handle (like a portal to file not file itself)\n",
    "\n",
    "for line in fh:\n",
    "    line = line.rstrip() # removes the blank lines from print()\n",
    "    print(line.upper())"
   ]
  },
  {
   "cell_type": "markdown",
   "metadata": {},
   "source": [
    "## Assignment 7.2"
   ]
  },
  {
   "cell_type": "markdown",
   "metadata": {},
   "source": [
    "Write a program that prompts for a file name, then opens that file and reads through the file, looking for lines of the form:\n",
    "        X-DSPAM-Confidence:    0.8475\n",
    "        \n",
    "Count these lines and extract the floating point values from each of the lines and compute the average of those values and produce an output as shown below.\n",
    "\n",
    "When you are testing below use mbox-short.txt as the file name."
   ]
  },
  {
   "cell_type": "code",
   "execution_count": null,
   "metadata": {},
   "outputs": [
    {
     "name": "stdout",
     "output_type": "stream",
     "text": [
      "Average sum: 0.7507185185185187\n"
     ]
    }
   ],
   "source": [
    "sum = 0\n",
    "count = 0\n",
    "fh = open('mbox-short.txt')\n",
    "for line in fh:\n",
    "    if not line.startswith('X-DSPAM-Confidence:'):\n",
    "        continue # goes to line 8\n",
    "\n",
    "    num = float(line[20:])\n",
    "    sum = sum + num\n",
    "    count = count + 1\n",
    "average = sum/count\n",
    "print('Average sum:', average)"
   ]
  },
  {
   "cell_type": "markdown",
   "metadata": {},
   "source": [
    "***"
   ]
  },
  {
   "cell_type": "markdown",
   "metadata": {},
   "source": [
    "## 8.1 Lists\n",
    "- More complicated `data structure` (ways of organising data)\n",
    "- Others include dictionaries & tuples\n",
    "- A list is a kind of `collection` \n",
    "    - Can store more than 1 `variable`\n",
    "    - Carries `many values` in 1 convenient package \n",
    "\n",
    "- We've already used them in `Definite Loops`"
   ]
  },
  {
   "cell_type": "markdown",
   "metadata": {},
   "source": [
    "### List constants [ ] & Elements"
   ]
  },
  {
   "cell_type": "code",
   "execution_count": null,
   "metadata": {},
   "outputs": [
    {
     "name": "stdout",
     "output_type": "stream",
     "text": [
      "['red', 24, 98.6, [5, 6]]\n",
      "4\n",
      "[]\n"
     ]
    }
   ],
   "source": [
    "x = ['red', 24, 98.6, [5, 6]]\n",
    "print(x)\n",
    "print(len(x))  # len() gives num of elements in list - 4 here\n",
    "len(x)\n",
    "\n",
    "print([])\n",
    "# List can be any object - even another list\n",
    "# list can be empty"
   ]
  },
  {
   "cell_type": "markdown",
   "metadata": {},
   "source": [
    "### Looking Inside Lists"
   ]
  },
  {
   "cell_type": "code",
   "execution_count": null,
   "metadata": {},
   "outputs": [
    {
     "name": "stdout",
     "output_type": "stream",
     "text": [
      "Glenn\n"
     ]
    }
   ],
   "source": [
    "# Lists use the same indexing method\n",
    "friends = ['Joseph', 'Glenn', 'Sally']\n",
    "print(friends[1])"
   ]
  },
  {
   "cell_type": "markdown",
   "metadata": {},
   "source": [
    "### Lists Are `Mutable` \n",
    "- Strings are `immutable` - cannot be changed \n",
    "- List can be changed using `indexing`"
   ]
  },
  {
   "cell_type": "code",
   "execution_count": null,
   "metadata": {},
   "outputs": [
    {
     "name": "stdout",
     "output_type": "stream",
     "text": [
      "[2, 14, 26, 41, 63]\n",
      "[2, 14, 28, 41, 63]\n"
     ]
    }
   ],
   "source": [
    "lotto = [2, 14, 26, 41, 63]\n",
    "print(lotto)\n",
    "lotto[2] = 28\n",
    "print(lotto)"
   ]
  },
  {
   "cell_type": "markdown",
   "metadata": {},
   "source": [
    "Using the `Range` Function\n",
    "- Range returns a list of numbers from 0 to one less than end `parameter`\n",
    "- Can made an index loop using `for` and a interger `iterator`"
   ]
  },
  {
   "cell_type": "code",
   "execution_count": null,
   "metadata": {},
   "outputs": [
    {
     "name": "stdout",
     "output_type": "stream",
     "text": [
      "3\n",
      "range(0, 3)\n"
     ]
    }
   ],
   "source": [
    "friends = ['Joseph', 'Glenn', 'Sally']\n",
    "print(len(friends)) # 3 items \n",
    "print(range(len(friends))) # range(0, 3) end non-incl.\n",
    "# can use to make a list"
   ]
  },
  {
   "cell_type": "markdown",
   "metadata": {},
   "source": [
    "### `Counted Loop`"
   ]
  },
  {
   "cell_type": "code",
   "execution_count": null,
   "metadata": {},
   "outputs": [
    {
     "name": "stdout",
     "output_type": "stream",
     "text": [
      "Happy New Year: Joseph\n",
      "Happy New Year: Glenn\n",
      "Happy New Year: Sally\n",
      "Happy New Year Joseph\n",
      "Happy New Year Glenn\n",
      "Happy New Year Sally\n"
     ]
    }
   ],
   "source": [
    "friends = ['Joseph', 'Glenn', 'Sally']\n",
    "for friend in friends:\n",
    "    print('Happy New Year:', friend)\n",
    "\n",
    "# Alternatively can use range and i to iterate\n",
    "for i in range(len(friends)):\n",
    "    friend = friends[i]\n",
    "    print('Happy New Year', friend)\n",
    "\n",
    "# Benefit is that in each iteration, we know what i is\n",
    "# This is called a counted loop"
   ]
  },
  {
   "cell_type": "markdown",
   "metadata": {},
   "source": [
    "## 8.2 Manipulating Lists"
   ]
  },
  {
   "cell_type": "markdown",
   "metadata": {},
   "source": [
    "### Concatenating Lists "
   ]
  },
  {
   "cell_type": "code",
   "execution_count": null,
   "metadata": {},
   "outputs": [
    {
     "name": "stdout",
     "output_type": "stream",
     "text": [
      "[1, 2, 3, 4, 5, 6]\n",
      "[1, 2, 3]\n"
     ]
    }
   ],
   "source": [
    "a = [1, 2, 3]\n",
    "b = [4, 5, 6]\n",
    "c = a + b\n",
    "print(c)\n",
    "print(a)"
   ]
  },
  {
   "cell_type": "markdown",
   "metadata": {},
   "source": [
    "### Lists can be `Sliced` using `:`\n",
    "- Remember: Just like in str, 2nd num is `up to but not incl`"
   ]
  },
  {
   "cell_type": "code",
   "execution_count": null,
   "metadata": {},
   "outputs": [
    {
     "name": "stdout",
     "output_type": "stream",
     "text": [
      "[41, 12]\n",
      "[9, 41, 12, 3]\n",
      "[3, 74, 15]\n"
     ]
    }
   ],
   "source": [
    "t = [ 9, 41, 12, 3, 74, 15]\n",
    "\n",
    "print(t[1 : 3])\n",
    "\n",
    "print(t[:4])\n",
    "\n",
    "print(t[3:])"
   ]
  },
  {
   "cell_type": "markdown",
   "metadata": {},
   "source": [
    "### List Methods\n",
    "- append(), count(), pop(), etc. "
   ]
  },
  {
   "cell_type": "code",
   "execution_count": null,
   "metadata": {},
   "outputs": [
    {
     "data": {
      "text/plain": [
       "list"
      ]
     },
     "metadata": {},
     "output_type": "display_data"
    }
   ],
   "source": [
    "x = list()\n",
    "type(x)\n",
    "# dir(x) tells u all the methods"
   ]
  },
  {
   "cell_type": "markdown",
   "metadata": {},
   "source": [
    "### Building List from Scratch \n",
    "- Create empty list then `append` (add) elements to end\n",
    "- Maintains same order"
   ]
  },
  {
   "cell_type": "code",
   "execution_count": null,
   "metadata": {},
   "outputs": [
    {
     "name": "stdout",
     "output_type": "stream",
     "text": [
      "['book', 99]\n"
     ]
    }
   ],
   "source": [
    "stuff = list()\n",
    "stuff.append('book')\n",
    "stuff.append(99)\n",
    "print(stuff)"
   ]
  },
  {
   "cell_type": "markdown",
   "metadata": {},
   "source": [
    "### Searching a List (`in`)"
   ]
  },
  {
   "cell_type": "code",
   "execution_count": null,
   "metadata": {},
   "outputs": [
    {
     "name": "stdout",
     "output_type": "stream",
     "text": [
      "True\n"
     ]
    },
    {
     "data": {
      "text/plain": [
       "True"
      ]
     },
     "metadata": {},
     "output_type": "display_data"
    }
   ],
   "source": [
    "some = [1, 9, 21, 10, 16]\n",
    "print(9 in some)\n",
    "20 not in some"
   ]
  },
  {
   "cell_type": "markdown",
   "metadata": {},
   "source": [
    "### `Sort()` Lists"
   ]
  },
  {
   "cell_type": "code",
   "execution_count": null,
   "metadata": {},
   "outputs": [
    {
     "name": "stdout",
     "output_type": "stream",
     "text": [
      "['Glenn', 'Joseph', 'Sally']\n"
     ]
    }
   ],
   "source": [
    "friends = ['Joseph', 'Glenn', 'Sally']\n",
    "friends.sort() # sorts in alphabetical order\n",
    "print(friends)"
   ]
  },
  {
   "cell_type": "markdown",
   "metadata": {},
   "source": [
    "Built-in Functions `min`, `max`, `sum`"
   ]
  },
  {
   "cell_type": "code",
   "execution_count": null,
   "metadata": {},
   "outputs": [
    {
     "name": "stdout",
     "output_type": "stream",
     "text": [
      "3\n",
      "41\n",
      "56\n",
      "18.666666666666668\n"
     ]
    }
   ],
   "source": [
    "nums = [3, 41, 12]\n",
    "print(min(nums))\n",
    "print(max(nums))\n",
    "print(sum(nums))\n",
    "print(sum(nums)/len(nums))"
   ]
  },
  {
   "cell_type": "markdown",
   "metadata": {},
   "source": [
    "### `Manual` loop vs. loop using `List`"
   ]
  },
  {
   "cell_type": "code",
   "execution_count": null,
   "metadata": {},
   "outputs": [],
   "source": [
    "# Remember when we had to find average of nums user inputted\n",
    "total = 0\n",
    "count = 0\n",
    "while True:\n",
    "    inp = input('Enter a number: ')\n",
    "    if inp == 'done': break \n",
    "    value = float(inp)\n",
    "    total = total + value \n",
    "    count = count + 1"
   ]
  },
  {
   "cell_type": "code",
   "execution_count": null,
   "metadata": {},
   "outputs": [],
   "source": [
    "# This is the same method using a loop\n",
    "numlist = list()\n",
    "while True:\n",
    "    inp = input('Enter a number: ')\n",
    "    if inp == 'done': break\n",
    "    value = float(inp)\n",
    "    numlist.append(value)\n",
    "\n",
    "average = sum(numlist) / len(numlist)\n",
    "print('Average:', average)"
   ]
  },
  {
   "cell_type": "markdown",
   "metadata": {},
   "source": [
    "- Both methods do the same thing \n",
    "- Pick which one you like \n",
    "- 2nd method has to keep all nums in `memory` to cal avg whereas 1st method doesn't \n",
    "- `1st method better` if you have `millions` of numbers\n",
    "- `2nd method great` if you alr have nums in a list"
   ]
  },
  {
   "cell_type": "markdown",
   "metadata": {},
   "source": [
    "## 8.3 Lists and Strings \n",
    "- `split()` breaks str into parts and makes list\n",
    "- by default on whitespace (treats many spaces as 1 space)\n",
    "- can specify a delimiter\n"
   ]
  },
  {
   "cell_type": "code",
   "execution_count": null,
   "metadata": {},
   "outputs": [
    {
     "name": "stdout",
     "output_type": "stream",
     "text": [
      "['With', 'three', 'words']\n",
      "3\n",
      "With\n",
      "With\n",
      "three\n",
      "words\n"
     ]
    }
   ],
   "source": [
    "abc = 'With three words' \n",
    "stuff = abc.split()\n",
    "print(stuff)\n",
    "print(len(stuff))\n",
    "print(stuff[0])\n",
    "\n",
    "for w in stuff:\n",
    "    print(w)"
   ]
  },
  {
   "cell_type": "code",
   "execution_count": null,
   "metadata": {},
   "outputs": [],
   "source": [
    "# From stephen.marquard@uct.ac.za Sat Jan 509:14:16 2008\n",
    "\n",
    "fhand = open('mbox-short.txt')\n",
    "for line in fhand:\n",
    "    line = line.rstrip()\n",
    "    if not line.startswith('From '): continue \n",
    "    words = line.split() # makes a list of words from line\n",
    "    print(words[2])\n",
    "    # Extracts day from line\n",
    "    # Easier method than using find which stops at 1st space\n"
   ]
  },
  {
   "cell_type": "markdown",
   "metadata": {},
   "source": [
    "### Double Split Method "
   ]
  },
  {
   "cell_type": "code",
   "execution_count": null,
   "metadata": {},
   "outputs": [],
   "source": [
    "# From stephen.marquard@uct.ac.za Sat Jan 509:14:16 2008\n",
    "# Extract uct.ac.za \n",
    "\n",
    "fhand = open('mbox-short.txt')\n",
    "for line in fhand:\n",
    "    line = line.rstrip()\n",
    "    if not line.startswith('From '): continue \n",
    "    words = line.split()       # 1st split\n",
    "    email = words[1]           #stephen.marquard@uct.ac.za\n",
    "    pieces = email.split('@')  # 2nd split\n",
    "    domain = pieces[1]         # uct.ac.za\n",
    "    print(domain)\n",
    "    "
   ]
  },
  {
   "cell_type": "markdown",
   "metadata": {},
   "source": [
    "***"
   ]
  },
  {
   "cell_type": "markdown",
   "metadata": {},
   "source": [
    "## Assignment 8.4"
   ]
  },
  {
   "cell_type": "code",
   "execution_count": null,
   "metadata": {},
   "outputs": [],
   "source": []
  },
  {
   "cell_type": "markdown",
   "metadata": {},
   "source": [
    "## Assignment 8.5"
   ]
  },
  {
   "cell_type": "code",
   "execution_count": null,
   "metadata": {},
   "outputs": [],
   "source": []
  },
  {
   "cell_type": "markdown",
   "metadata": {},
   "source": [
    "***"
   ]
  },
  {
   "cell_type": "markdown",
   "metadata": {},
   "source": [
    "## List Exercise: `Guardian Pattern` \n",
    "- Protect code from traceback"
   ]
  },
  {
   "cell_type": "code",
   "execution_count": null,
   "metadata": {},
   "outputs": [],
   "source": [
    "# Let's try extracting day:\n",
    "# From stephen.marquard@uct.ac.za Sat Jan 509:14:16 2008\n",
    "\n",
    "han = open('mbox-short.txt')\n",
    "for line in han:\n",
    "    line = line.rstrip()\n",
    "    words = line.split()\n",
    "\n",
    "# Only want lines starting with 'From'\n",
    "# Guardian protects from blank lines & lines with only 'From':\n",
    "    if len(words) < 3 or words[0] != 'From'\n",
    "        continue     \n",
    "\n",
    "    print(words[2]) # prints Day"
   ]
  },
  {
   "cell_type": "markdown",
   "metadata": {},
   "source": [
    "- Order is important \n",
    "- `len(word) < 3` checked first (guardian) then `words[0]!='From'`\n",
    "- If order flipped, would traceback  \n",
    "- If guardian code False, doesn't bother checking `words[0]!='From'`\n",
    "- __Always put guardian first__"
   ]
  },
  {
   "cell_type": "markdown",
   "metadata": {},
   "source": [
    "***"
   ]
  },
  {
   "cell_type": "markdown",
   "metadata": {},
   "source": [
    "## 9.1 `Dictionaries`\n",
    "List \n",
    "- a precise linear collection of values that stay in that order\n",
    "    \n",
    "Dictionaries\n",
    "- A 'bag' (`no order`) of `values`, each with its own label (`key`)\n",
    "- Python's most powerful collection\n",
    "- index things put in the dict w/ a lookup tag (key)\n",
    "- `mutable`"
   ]
  },
  {
   "cell_type": "code",
   "execution_count": null,
   "metadata": {},
   "outputs": [
    {
     "name": "stdout",
     "output_type": "stream",
     "text": [
      "{'money': 12, 'candy': 3, 'tissues': 75}\n",
      "3\n",
      "5\n",
      "0\n"
     ]
    }
   ],
   "source": [
    "purse = dict() # empty didctionary \n",
    "purse['money'] = 12 # key and value pair to append to dict\n",
    "purse['candy'] = 3\n",
    "purse['tissues'] = 75\n",
    "\n",
    "print(purse)\n",
    "print(purse['candy'])\n",
    "\n",
    "purse['candy'] = purse['candy'] + 2 # can add/subtract etc\n",
    "print(purse['candy'])\n",
    "\n",
    "purse['money'] = 0                  # can reassign values\n",
    "print(purse['money'])"
   ]
  },
  {
   "cell_type": "markdown",
   "metadata": {},
   "source": [
    "## 9.2 Counting with Dictionaries"
   ]
  },
  {
   "cell_type": "code",
   "execution_count": null,
   "metadata": {},
   "outputs": [
    {
     "name": "stdout",
     "output_type": "stream",
     "text": [
      "{'csev': 1, 'cwen': 1}\n",
      "2\n"
     ]
    }
   ],
   "source": [
    "nam = dict()\n",
    "nam['csev'] = 1\n",
    "nam['cwen'] = 1\n",
    "print(nam)\n",
    "\n",
    "nam['cwen'] = nam['cwen'] + 1\n",
    "print(nam['cwen'])\n",
    "# everytime name seen, can update dict to make histogram"
   ]
  },
  {
   "cell_type": "markdown",
   "metadata": {},
   "source": [
    "### Dictionary Tracebacks \n",
    "- Can't look for key not in dict \n",
    "- Can use `in` to see if key in dict"
   ]
  },
  {
   "cell_type": "code",
   "execution_count": null,
   "metadata": {},
   "outputs": [],
   "source": [
    "nam = dict()\n",
    "print(nam['csev']) \n",
    "# returns traceback since key not in dict"
   ]
  },
  {
   "cell_type": "code",
   "execution_count": null,
   "metadata": {},
   "outputs": [
    {
     "data": {
      "text/plain": [
       "False"
      ]
     },
     "metadata": {},
     "output_type": "display_data"
    }
   ],
   "source": [
    "nam =  dict()\n",
    "'csev' in nam\n",
    "# returns False since key not in dict\n",
    "# Can write an if statement to add them in "
   ]
  },
  {
   "cell_type": "markdown",
   "metadata": {},
   "source": [
    "### When We See a New Name"
   ]
  },
  {
   "cell_type": "code",
   "execution_count": null,
   "metadata": {},
   "outputs": [
    {
     "name": "stdout",
     "output_type": "stream",
     "text": [
      "{'csev': 2, 'cwen': 2, 'zqian': 1}\n"
     ]
    }
   ],
   "source": [
    "counts = dict()\n",
    "names = ['csev', 'cwen', 'csev', 'zqian', 'cwen']\n",
    "\n",
    "for name in names:\n",
    "    if name not in counts:   # if name not in dict, set name to 1 \n",
    "        counts[name] = 1\n",
    "    else:\n",
    "        counts[name] = counts[name] + 1  # if name in dict, add 1 to it\n",
    "print(counts)"
   ]
  },
  {
   "cell_type": "markdown",
   "metadata": {},
   "source": [
    "### Easier in-built Alternative\n",
    "- Pattern of checking to see if `key` in dict & assuming default value if not is common \n",
    "- `method` called `get()` that does this\n",
    "- parameters are `get(key, default)`\n",
    "- `default` is value back if key DNE\n",
    "- used many times "
   ]
  },
  {
   "cell_type": "code",
   "execution_count": null,
   "metadata": {},
   "outputs": [
    {
     "name": "stdout",
     "output_type": "stream",
     "text": [
      "{'csev': 2, 'cwen': 2, 'zqian': 1}\n"
     ]
    }
   ],
   "source": [
    "counts = dict()\n",
    "names = ['csev', 'cwen', 'csev', 'zqian', 'cwen']\n",
    "\n",
    "for name in names:\n",
    "    counts[name] = counts.get(name, 0) + 1  # this is an idiom used a lot, get used to it\n",
    "print(counts)           # get(key, default)\n",
    "\n",
    "# get() searches if key exists, if doesn't defaults 0, \n",
    "# then we add 1 to it "
   ]
  },
  {
   "cell_type": "markdown",
   "metadata": {},
   "source": [
    "## 9.3 Dictionaries and Files\n",
    "- read text and find most common word"
   ]
  },
  {
   "cell_type": "markdown",
   "metadata": {},
   "source": [
    "#### Counting Pattern"
   ]
  },
  {
   "cell_type": "code",
   "execution_count": null,
   "metadata": {},
   "outputs": [
    {
     "name": "stdout",
     "output_type": "stream",
     "text": [
      "Enter a line of text:\n",
      "Words: ['Hi', 'Hi', 'how', 'u', 'u', 'u', 'u', 'doinnnnn']\n",
      "Counting. . .\n",
      "Counts {'Hi': 2, 'how': 1, 'u': 4, 'doinnnnn': 1}\n"
     ]
    }
   ],
   "source": [
    "# General Pattern:\n",
    "# Empty dict, split line to get list then loop thru list \n",
    "# and use a dict to keep track of count of each word\n",
    "\n",
    "counts = dict()\n",
    "print('Enter a line of text:')\n",
    "line = input('')\n",
    "\n",
    "words = line.split()  # puts all words into list\n",
    "\n",
    "print('Words:', words)\n",
    "\n",
    "print('Counting. . .')\n",
    "for word in words :  # looping through words \n",
    "    counts[word] = counts.get(word, 0) + 1  # update count, the  second part is default value \n",
    "print('Counts', counts)"
   ]
  },
  {
   "cell_type": "markdown",
   "metadata": {},
   "source": [
    "### Definite Loops and Dictionaries\n",
    "- Although not in order, can write `for` loop to go through all `keys` and `lookup` values in dict\n",
    "- for loop for dict goes thru `keys` not `values`"
   ]
  },
  {
   "cell_type": "code",
   "execution_count": null,
   "metadata": {},
   "outputs": [
    {
     "name": "stdout",
     "output_type": "stream",
     "text": [
      "chuck 1\n",
      "fred 42\n",
      "jan 100\n"
     ]
    }
   ],
   "source": [
    "counts = { 'chuck' : 1, 'fred' : 42, 'jan' : 100 }\n",
    "for k in counts:  # k takes values of keys not values \n",
    "    print(k, counts[k]) # counts[key] extracts value"
   ]
  },
  {
   "cell_type": "markdown",
   "metadata": {},
   "source": [
    "Retrieving `lists` of Keys, Values or Items (Both) from dict"
   ]
  },
  {
   "cell_type": "code",
   "execution_count": null,
   "metadata": {},
   "outputs": [
    {
     "name": "stdout",
     "output_type": "stream",
     "text": [
      "['chuck', 'fred', 'jan']\n",
      "dict_keys(['chuck', 'fred', 'jan'])\n",
      "dict_values([1, 42, 100])\n",
      "dict_items([('chuck', 1), ('fred', 42), ('jan', 100)])\n"
     ]
    }
   ],
   "source": [
    "names  = { 'chuck' : 1, 'fred' : 42, 'jan' : 100 }\n",
    "print(list(names)) # list() takes key only \n",
    "\n",
    "print(names.keys())\n",
    "\n",
    "print(names.values()) # order of values matches order of keys \n",
    "# even though order is not the same when u put them in \n",
    "\n",
    "print(names.items()) # items() gives list of both key & value pairs\n",
    "# 3 element list, with each element called a tuple "
   ]
  },
  {
   "cell_type": "markdown",
   "metadata": {},
   "source": [
    "### Looping thru `key-value` Pairs \n",
    "- Two Iteration Variables!\n",
    "- In each iteration:\n",
    "    - 1st iteration var is `key`\n",
    "    - 2nd iteration var is `value`"
   ]
  },
  {
   "cell_type": "code",
   "execution_count": null,
   "metadata": {},
   "outputs": [
    {
     "name": "stdout",
     "output_type": "stream",
     "text": [
      "chuck 1\n",
      "fred 42\n",
      "jan 100\n"
     ]
    }
   ],
   "source": [
    "names  = { 'chuck' : 1, 'fred' : 42, 'jan' : 100 }\n",
    "for k, v in names.items():  # k - key, v - value\n",
    "    print(k, v)"
   ]
  },
  {
   "cell_type": "markdown",
   "metadata": {},
   "source": [
    "### Checking Understanding"
   ]
  },
  {
   "cell_type": "code",
   "execution_count": null,
   "metadata": {},
   "outputs": [],
   "source": [
    "name = input('Enter file:') # try entering test.txt\n",
    "handle = open(name) # gets file handle \n",
    "\n",
    "counts = dict()\n",
    "for line in handle: \n",
    "    words = line.split() # don't need rstrip() as split removes whitespace\n",
    "    for word in words:\n",
    "        counts[word] = counts.get(word, 0) + 1 # counter, make sure get() using circle brackets, not square\n",
    "\n",
    "\n",
    "bigcount = None # biggest count seen so far \n",
    "bigword = None # word associated w biggest count\n",
    "for word, count in counts.items():  # key-value pair iteration\n",
    "    if bigcount is None or count > bigcount: # if no word or count  is bigger than previous count\n",
    "        bigword = word\n",
    "        bigcount = count\n",
    "\n",
    "print(bigword, bigcount)"
   ]
  },
  {
   "cell_type": "markdown",
   "metadata": {},
   "source": [
    "***"
   ]
  },
  {
   "cell_type": "markdown",
   "metadata": {},
   "source": [
    "## Assignment 9.4 "
   ]
  },
  {
   "cell_type": "markdown",
   "metadata": {},
   "source": [
    "Write a program to read through the mbox-short.txt and figure out who has the sent the greatest number of mail messages.\n",
    "\n",
    "The program looks for 'From ' lines and takes the second word of those\n",
    "lines as the person who sent the mail. \n",
    "\n",
    "The program creates a Python dictionary that maps the sender's mail address to a count of the number of times they appear in the file. \n",
    "\n",
    "After the dictionary is produced, the program reads through the dictionary using a maximum loop to find the most prolific committer."
   ]
  },
  {
   "cell_type": "code",
   "execution_count": null,
   "metadata": {},
   "outputs": [
    {
     "name": "stdout",
     "output_type": "stream",
     "text": [
      "dict_items([('stephen.marquard@uct.ac.za', 52), ('louis@media.berkeley.edu', 72), ('zqian@umich.edu', 60), ('rjlowe@iupui.edu', 32), ('cwen@iupui.edu', 70), ('gsilver@umich.edu', 51), ('wagnermr@iupui.edu', 18), ('antranig@caret.cam.ac.uk', 24), ('gopal.ramasammycook@gmail.com', 29), ('david.horwitz@uct.ac.za', 92), ('ray@media.berkeley.edu', 22)])\n",
      "david.horwitz@uct.ac.za sent the most emails with 92 emails sent\n"
     ]
    }
   ],
   "source": [
    "fh = open('mbox-short.txt')\n",
    "\n",
    "# stephen.marquard@uct.ac.za Sat Jan  5 09:14:16 2008\n",
    "# need to split words in a list and retrieve email only \n",
    "\n",
    "counts = dict()\n",
    "for line in fh:\n",
    "    if not line.startswith('From '):\n",
    "        continue\n",
    "\n",
    "    words = line.split() # don't need rstrip() as split removes space\n",
    "    email = words[1] # extract email\n",
    "\n",
    "    for mail in email: # loop thru emails and count them\n",
    "        counts[email] = counts.get(email, 0) + 1 \n",
    "\n",
    "big_count = None # largest count so far\n",
    "big_email = None # email associated with largest count \n",
    "\n",
    "print(counts.items()) # .items gives dict as a list of k-v to iterate thru\n",
    "\n",
    "for email, count in counts.items():  \n",
    "    if big_count is None or count > big_count:\n",
    "        big_count = count \n",
    "        big_email = email\n",
    "\n",
    "print(f'{big_email} sent the most emails with {big_count} emails sent')"
   ]
  },
  {
   "cell_type": "markdown",
   "metadata": {},
   "source": [
    "## Dictionary Exercise:"
   ]
  },
  {
   "cell_type": "code",
   "execution_count": null,
   "metadata": {},
   "outputs": [
    {
     "name": "stdout",
     "output_type": "stream",
     "text": [
      "Hi My name is Minh and this is a test test test test should be the biggest count\n",
      "['Hi', 'My', 'name', 'is', 'Minh', 'and', 'this', 'is', 'a', 'test', 'test', 'test', 'test', 'should', 'be', 'the', 'biggest', 'count']\n",
      "Hi 1\n",
      "My 1\n",
      "name 1\n",
      "is 1\n",
      "Minh 1\n",
      "and 1\n",
      "this 1\n",
      "is 2\n",
      "a 1\n",
      "test 1\n",
      "test 2\n",
      "test 3\n",
      "test 4\n",
      "should 1\n",
      "be 1\n",
      "the 1\n",
      "biggest 1\n",
      "count 1\n",
      "{'Hi': 1, 'My': 1, 'name': 1, 'is': 2, 'Minh': 1, 'and': 1, 'this': 1, 'a': 1, 'test': 4, 'should': 1, 'be': 1, 'the': 1, 'biggest': 1, 'count': 1}\n",
      "Done test 4\n"
     ]
    }
   ],
   "source": [
    "fname = input('Enter file: ')\n",
    "if len(fname) < 1: fname = 'test.txt' \n",
    "# can hit enter and it enters file name automatically \n",
    "han = open(fname)\n",
    "\n",
    "di = dict()\n",
    "for line in han:\n",
    "    line = line.rstrip()\n",
    "    print(line) # prints lines\n",
    "    words = line.split()\n",
    "    print(words) # prints words in a list\n",
    "\n",
    "    for word in words:\n",
    "        di[word] = di.get(word, 0) + 1 # this line is the most effiicent counter \n",
    "        print(word, di[word]) # prints each word & value at each iteration\n",
    "\n",
    "print(di)\n",
    "\n",
    "# Now find the most common word - loop thru dict\n",
    "\n",
    "largest = -1 # a counter so can use although not good practice\n",
    "largest_word = None \n",
    "for k, v in di.items():\n",
    "    if v > largest:\n",
    "        largest = v\n",
    "        largest_word = k # capture/remember largest word\n",
    "print('Done', largest_word, largest)"
   ]
  },
  {
   "cell_type": "markdown",
   "metadata": {},
   "source": [
    "***"
   ]
  },
  {
   "cell_type": "markdown",
   "metadata": {},
   "source": [
    "## 10 Tuples\n",
    "- Uses `( )` instead of `[ ]`\n",
    "- Like list but `immutable`\n",
    "- Can't sort, append, pop tuple\n",
    "- Because of this, more efficient and stored denser than lists"
   ]
  },
  {
   "cell_type": "code",
   "execution_count": 1,
   "metadata": {},
   "outputs": [
    {
     "name": "stdout",
     "output_type": "stream",
     "text": [
      "Joseph\n",
      "[9, 0, 7]\n"
     ]
    }
   ],
   "source": [
    "x = ('Glenn', 'Sally', 'Joseph') \n",
    "print(x[2])\n",
    "\n",
    "# x[1] = 'John' \n",
    "# line 4 will traceback as tuple immutable\n",
    "\n",
    "x = [9, 8, 7]\n",
    "x[1] = 0  # lists are mutable unlike tuples\n",
    "print(x)"
   ]
  },
  {
   "cell_type": "markdown",
   "metadata": {},
   "source": [
    "### Tuples and Assignment \n",
    "- can put tuple on `LHS` of assignment statement\n",
    "- can omit parentheses "
   ]
  },
  {
   "cell_type": "code",
   "execution_count": null,
   "metadata": {},
   "outputs": [
    {
     "name": "stdout",
     "output_type": "stream",
     "text": [
      "Fred\n",
      "99\n"
     ]
    }
   ],
   "source": [
    "(x, y) = (4, 'Fred')\n",
    "print(y)\n",
    "\n",
    "(a, b) = 99, 98\n",
    "print(a)\n",
    "\n",
    "# Can't do (a, b) = 98,  needs to be 2 var to assign\n",
    "# created when doing .items() for dict"
   ]
  },
  {
   "cell_type": "markdown",
   "metadata": {},
   "source": [
    "### Tuples are Comparable\n",
    "- if 1st item equal goes to next element and so on until it finds an element that differs\n",
    "- Once it finds element that differs, it `stops`"
   ]
  },
  {
   "cell_type": "code",
   "execution_count": null,
   "metadata": {},
   "outputs": [
    {
     "name": "stdout",
     "output_type": "stream",
     "text": [
      "True\n"
     ]
    },
    {
     "data": {
      "text/plain": [
       "True"
      ]
     },
     "metadata": {},
     "output_type": "display_data"
    }
   ],
   "source": [
    "print((0, 100, 2) < (5, 0, 0))\n",
    "# 0 < 5 so it stops there, doesn't check 100 < 0\n",
    "\n",
    "# Same with strings \n",
    "('Jones', 'Sally') < ('Jones', 'Sam')"
   ]
  },
  {
   "cell_type": "markdown",
   "metadata": {},
   "source": [
    "### Sorting Lists of Tuples \n",
    "- sort dict by key using `items()` and `sorted()` function"
   ]
  },
  {
   "cell_type": "code",
   "execution_count": null,
   "metadata": {},
   "outputs": [
    {
     "name": "stdout",
     "output_type": "stream",
     "text": [
      "dict_items([('x', 2), ('a', 10), ('b', 1), ('c', 22)])\n",
      "[('a', 10), ('b', 1), ('c', 22), ('x', 2)]\n",
      "a 10\n",
      "b 1\n",
      "c 22\n",
      "x 2\n"
     ]
    }
   ],
   "source": [
    "d = {'x':2, 'a':10, 'b':1, 'c':22}\n",
    "print(d.items())\n",
    "print(sorted(d.items())) # sorts based on first parameter in tuple (since keys are unique)\n",
    "\n",
    "for k, v in sorted(d.items()): # loop thru dict in key order\n",
    "    print(k, v)"
   ]
  },
  {
   "cell_type": "markdown",
   "metadata": {},
   "source": [
    "### Sort Tuples by Values Instead of Key\n",
    "- Need to make list of `tuples` in form `(value, key)`\n",
    "- Can do a `for` loop that makes list of tuples"
   ]
  },
  {
   "cell_type": "code",
   "execution_count": null,
   "metadata": {},
   "outputs": [
    {
     "name": "stdout",
     "output_type": "stream",
     "text": [
      "[(10, 'a'), (1, 'b'), (22, 'c')]\n",
      "[(22, 'c'), (10, 'a'), (1, 'b')]\n"
     ]
    }
   ],
   "source": [
    "c = {'a':10, 'b':1, 'c':22}\n",
    "tmp = list() # makes temp list to append tuples to \n",
    "for k, v in c.items():\n",
    "    tmp.append((v, k)) # makes a new tuple but reverses item order \n",
    "print(tmp)    # value is 1st item, key is 2nd\n",
    "\n",
    "tmp = sorted(tmp, reverse=True) # sorts values in desc ord\n",
    "print(tmp) "
   ]
  },
  {
   "cell_type": "markdown",
   "metadata": {},
   "source": [
    "### Pratical Uses: Top 10 Words"
   ]
  },
  {
   "cell_type": "code",
   "execution_count": null,
   "metadata": {},
   "outputs": [],
   "source": [
    "fhand = open('test.txt')\n",
    "counts = dict()\n",
    "for line in fhand:\n",
    "    words = line.split()\n",
    "    for word in words:\n",
    "        counts[word] = counts.get(word, 0) + 1\n",
    "# creates histogram of most common words in dict \n",
    "\n",
    "#----------------------------------------\n",
    "lst = list()\n",
    "for k, v in counts.items():\n",
    "    newtup = (v, k)\n",
    "    lst.append(newtup)\n",
    "# creates a list of tuples from dict\n",
    "\n",
    "lst = sorted(lst, reverse=True)\n",
    "# sorts highest to lowest val\n",
    "#----------------------------------------\n",
    "\n",
    "for v, k in lst[:10]:  # stops after 10 val, other way would be starts after 10 vals\n",
    "    print(k, v) \n",
    "# prints top 10 words, reverses so key 1st again"
   ]
  },
  {
   "cell_type": "markdown",
   "metadata": {},
   "source": [
    "### Even shorter method\n",
    "- Can do what's in b/w `#----` above in one line of code\n",
    "- Using `List Comprehension` \n",
    "    - creates dynamic list, reversed tuples then sorts it (very succinct code)\n",
    "- Pick which method makes more sense "
   ]
  },
  {
   "cell_type": "code",
   "execution_count": null,
   "metadata": {},
   "outputs": [
    {
     "name": "stdout",
     "output_type": "stream",
     "text": [
      "[(22, 'c'), (10, 'a'), (1, 'b')]\n"
     ]
    }
   ],
   "source": [
    "c = {'a':10, 'b':1, 'c':22}\n",
    "\n",
    "# `For all loop` that flips tuples then sorts them \n",
    "print(sorted( [ (v,k) for k,v in c.items()], reverse=True))\n",
    "# not expected to understand but cool "
   ]
  },
  {
   "cell_type": "markdown",
   "metadata": {},
   "source": [
    "***"
   ]
  },
  {
   "cell_type": "markdown",
   "metadata": {},
   "source": [
    "## Assignment 10.2"
   ]
  },
  {
   "cell_type": "markdown",
   "metadata": {},
   "source": [
    "Write a program to read through the mbox-short.txt and figure out the distribution by hour of the day for each of the messages.\n",
    "\n",
    "You can pull the hour out from the 'From ' line by finding the time\n",
    "and then splitting the string a second time using a colon.\n",
    "\n",
    "From stephen.marquard@uct.ac.za Sat Jan  5 09:14:16 2008\n",
    "\n",
    "Once you have accumulated the counts for each hour, print out the counts, sorted by hour as shown below. Note that the autograder does not have support for the sorted() function.\n"
   ]
  },
  {
   "cell_type": "code",
   "execution_count": null,
   "metadata": {},
   "outputs": [],
   "source": []
  },
  {
   "cell_type": "markdown",
   "metadata": {},
   "source": [
    "## Exercise: Tuples and Sorting"
   ]
  },
  {
   "cell_type": "code",
   "execution_count": null,
   "metadata": {},
   "outputs": [
    {
     "name": "stdout",
     "output_type": "stream",
     "text": [
      "Flipped [(1, 'Hi'), (1, 'My'), (1, 'name'), (2, 'is'), (1, 'Minh'), (1, 'and'), (1, 'this'), (1, 'a'), (4, 'test'), (1, 'should'), (1, 'be'), (1, 'biggest'), (1, 'count')]\n",
      "Sorted [(4, 'test'), (2, 'is'), (1, 'this'), (1, 'should'), (1, 'name')]\n",
      "test 4\n",
      "is 2\n",
      "this 1\n",
      "should 1\n",
      "name 1\n"
     ]
    }
   ],
   "source": [
    "# Program that finds the 5 most common word (need sorting)\n",
    "\n",
    "fname = input('Enter File: ')\n",
    "if len(fname) < 1: fname = 'test.txt'\n",
    "hand = open(fname)\n",
    "\n",
    "di = dict()\n",
    "for line in hand:\n",
    "    line = line.rstrip()\n",
    "    words = line.split()\n",
    "    for word in words:\n",
    "        # idiom: retrieve/create/update dictionary\n",
    "        di[word] = di.get(word, 0) + 1\n",
    "\n",
    "# print('di', di)\n",
    "# print(di.items()) # makes tuple k-v pairs in a list \n",
    "\n",
    "# iterate and store each k-v pair as tuple in list \n",
    "tmp = list() \n",
    "for k, v in di.items():\n",
    "    newtup = (v, k)  # reverses order so value first (v, k)\n",
    "    tmp.append(newtup) \n",
    "print('Flipped', tmp)\n",
    "\n",
    "tmp = sorted(tmp, reverse=True) # sorts by value since flipped before\n",
    "print('Sorted', tmp[:5]) # gets most common 5 words in DESC ord\n",
    "# if there's a tie, goes in reverse alphabetical ord\n",
    "\n",
    "# to print nicer \n",
    "for v, k in tmp[:5]: # rememb: flipped list \n",
    "    print(k, v)\n"
   ]
  },
  {
   "cell_type": "markdown",
   "metadata": {},
   "source": [
    "***"
   ]
  }
 ],
 "metadata": {
  "kernelspec": {
   "display_name": "Python 3",
   "language": "python",
   "name": "python3"
  },
  "language_info": {
   "codemirror_mode": {
    "name": "ipython",
    "version": 3
   },
   "file_extension": ".py",
   "mimetype": "text/x-python",
   "name": "python",
   "nbconvert_exporter": "python",
   "pygments_lexer": "ipython3",
   "version": "3.11.2"
  }
 },
 "nbformat": 4,
 "nbformat_minor": 2
}
