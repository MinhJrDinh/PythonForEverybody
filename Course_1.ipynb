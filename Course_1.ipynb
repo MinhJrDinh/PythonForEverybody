{
 "cells": [
  {
   "cell_type": "markdown",
   "metadata": {},
   "source": [
    "# 1. 👋 Getting started with Python "
   ]
  },
  {
   "cell_type": "markdown",
   "metadata": {},
   "source": [
    "- <span style='color:orange'>Don't use floating point for money</span>\n",
    "    - Can lead to strange rounding errors\n",
    "    - Instead do 1025 integer to represent $10.25\n",
    "- You can also change text color in notes using code :\n",
    "`<span style='color:aqua'>` <span style='color:aqua'>text u want colored</span> `</span>`\n",
    "![](https://user-images.githubusercontent.com/18719295/187836098-ae7589a5-8cec-4462-ada7-cf173625c5dd.png)"
   ]
  },
  {
   "cell_type": "markdown",
   "metadata": {},
   "source": [
    "## 2.1 Expressions"
   ]
  },
  {
   "cell_type": "code",
   "execution_count": null,
   "metadata": {},
   "outputs": [
    {
     "data": {
      "text/plain": [
       "88"
      ]
     },
     "metadata": {},
     "output_type": "display_data"
    }
   ],
   "source": [
    "# Can do int() on strings that are numbers \n",
    "my_int = 123\n",
    "int(my_int) + 1\n",
    "\n",
    "# name = input('Who are you')\n",
    "# print(f'Hi', name)\n",
    "\n",
    "int(88.6)"
   ]
  },
  {
   "cell_type": "markdown",
   "metadata": {},
   "source": [
    "***"
   ]
  },
  {
   "cell_type": "markdown",
   "metadata": {},
   "source": [
    "## 3.1 Conditionals"
   ]
  },
  {
   "cell_type": "code",
   "execution_count": null,
   "metadata": {},
   "outputs": [
    {
     "name": "stdout",
     "output_type": "stream",
     "text": [
      "x equals 5\n",
      "larger than 2\n",
      "larger than 2\n",
      "All done\n",
      "First -1\n",
      "Second 123\n"
     ]
    }
   ],
   "source": [
    "x = 5\n",
    "if x == 5: # think of == as a question\n",
    "    print('x equals 5')\n",
    "    \n",
    "for i in range(5):\n",
    "    if i > 2:\n",
    "        print('larger than 2')\n",
    "print('All done')\n"
   ]
  },
  {
   "cell_type": "code",
   "execution_count": null,
   "metadata": {},
   "outputs": [],
   "source": [
    "# If you have code that might traceback, can use try/except\n",
    "astr = 'Hello Bob'\n",
    "try:\n",
    "    istr = int(astr) # will fail, goes to except \n",
    "except:\n",
    "    istr = -1 \n",
    "print('First', istr)\n",
    "\n",
    "astr = '123'\n",
    "try:\n",
    "    istr = int(astr) # will pass, skips except\n",
    "except:\n",
    "    istr = -1 \n",
    "print('Second', istr)\n",
    "\n"
   ]
  },
  {
   "cell_type": "markdown",
   "metadata": {},
   "source": [
    "- `try/except` is similar to if/else but avoids traceback\n",
    "- try not to put entire code in try: block\n",
    "- if it encounters smth wrong doesn't finish all of try block, exits immediately to run except\n",
    "- best practice is to minimise lines in try (only dangerous might fail code)"
   ]
  },
  {
   "cell_type": "code",
   "execution_count": null,
   "metadata": {},
   "outputs": [
    {
     "name": "stdout",
     "output_type": "stream",
     "text": [
      "Nice work!\n"
     ]
    }
   ],
   "source": [
    "# Example of try/except \n",
    "rawstr = input('Enter a number:')\n",
    "try:\n",
    "    ival = int(rawstr)\n",
    "except:\n",
    "    ival = -1 \n",
    "\n",
    "if ival > 0: \n",
    "    print('Nice work!')\n",
    "else:\n",
    "    print('Not a number')"
   ]
  },
  {
   "cell_type": "markdown",
   "metadata": {},
   "source": [
    "Write code that pays 1.5 times the rate after someone has worked more than 40 hrs. "
   ]
  },
  {
   "cell_type": "code",
   "execution_count": null,
   "metadata": {},
   "outputs": [
    {
     "name": "stdout",
     "output_type": "stream",
     "text": [
      "400.0\n"
     ]
    }
   ],
   "source": [
    "sh = input('Enter hours:')\n",
    "sr = input('Enter rate: ')\n",
    "try:\n",
    "    fh = float(sh)\n",
    "    fr = float(sr)\n",
    "except:\n",
    "    print('Error, please enter numeric input')\n",
    "    \n",
    "if fh > 40:\n",
    "    pay = (40 * fr) + (fh - 40)*(fr * 1.5)\n",
    "    print(pay)\n",
    "else:\n",
    "    pay = fh * fr \n",
    "    print(pay)"
   ]
  },
  {
   "cell_type": "markdown",
   "metadata": {},
   "source": [
    "***"
   ]
  },
  {
   "cell_type": "markdown",
   "metadata": {},
   "source": [
    "## 4.1 Functions"
   ]
  },
  {
   "cell_type": "code",
   "execution_count": null,
   "metadata": {},
   "outputs": [
    {
     "name": "stdout",
     "output_type": "stream",
     "text": [
      "Hola\n"
     ]
    }
   ],
   "source": [
    "def greet(lang):\n",
    "    if lang == 'es':\n",
    "        print('Hola')\n",
    "    elif lang == 'fr':\n",
    "        print('Bonjour')\n",
    "    else:\n",
    "        print('Hello')\n",
    "greet('es')"
   ]
  },
  {
   "cell_type": "code",
   "execution_count": null,
   "metadata": {},
   "outputs": [
    {
     "name": "stdout",
     "output_type": "stream",
     "text": [
      "Hello Minh\n"
     ]
    }
   ],
   "source": [
    "# return provides val of the function \n",
    "def greet():\n",
    "    return 'Hello'\n",
    "print(greet(), 'Minh')\n",
    "\n",
    "# Note: return ends the function if run "
   ]
  },
  {
   "cell_type": "code",
   "execution_count": null,
   "metadata": {},
   "outputs": [
    {
     "name": "stdout",
     "output_type": "stream",
     "text": [
      "8\n"
     ]
    }
   ],
   "source": [
    "# Can have more than 1 parameter \n",
    "def addtwo(a, b):\n",
    "    added = a + b \n",
    "    return added \n",
    "x = addtwo(3, 5)\n",
    "print(x)"
   ]
  },
  {
   "cell_type": "markdown",
   "metadata": {},
   "source": [
    "***"
   ]
  },
  {
   "cell_type": "markdown",
   "metadata": {},
   "source": [
    "## 5.1 Loops and Iteration"
   ]
  },
  {
   "cell_type": "code",
   "execution_count": null,
   "metadata": {},
   "outputs": [
    {
     "name": "stdout",
     "output_type": "stream",
     "text": [
      "3\n",
      "2\n",
      "1\n",
      "Blastoff\n",
      "0\n"
     ]
    }
   ],
   "source": [
    "n = 3\n",
    "while n > 0: # checks if true\n",
    "    print(n)\n",
    "    n = n - 1 # goes back up \n",
    "print('Blastoff')\n",
    "print(n)\n",
    "\n",
    "# while like an if statement\n",
    "# iteration var is what changes so loop isn't infinite"
   ]
  },
  {
   "cell_type": "markdown",
   "metadata": {},
   "source": [
    "### Breaking out of a Loop"
   ]
  },
  {
   "cell_type": "markdown",
   "metadata": {},
   "source": [
    "#### `break` statement \n",
    "- ends current loops and jumps to next code"
   ]
  },
  {
   "cell_type": "code",
   "execution_count": null,
   "metadata": {},
   "outputs": [],
   "source": [
    "while True:\n",
    "    line = input('> ')\n",
    "    if line == 'done' :\n",
    "        break \n",
    "    print(line)\n",
    "print('Done!')"
   ]
  },
  {
   "cell_type": "markdown",
   "metadata": {},
   "source": [
    "#### `continue` statement \n",
    "- ends current iteration and jumps to top of loop to start next iteration"
   ]
  },
  {
   "cell_type": "code",
   "execution_count": null,
   "metadata": {},
   "outputs": [],
   "source": [
    "while True:\n",
    "    line = input('> ')\n",
    "    if line[0] == '#' :\n",
    "        continue\n",
    "    if line == 'done' :\n",
    "        break\n",
    "    print(line)\n",
    "print('Done')"
   ]
  },
  {
   "cell_type": "markdown",
   "metadata": {},
   "source": [
    "## 5.2 Definite Loops"
   ]
  },
  {
   "cell_type": "code",
   "execution_count": null,
   "metadata": {},
   "outputs": [
    {
     "name": "stdout",
     "output_type": "stream",
     "text": [
      "1\n",
      "2\n",
      "3\n",
      "Blastoff\n"
     ]
    }
   ],
   "source": [
    "for i in range(1, 4): # can pick anything for i \n",
    "    print(i)\n",
    "print('Blastoff')"
   ]
  },
  {
   "cell_type": "code",
   "execution_count": null,
   "metadata": {},
   "outputs": [
    {
     "name": "stdout",
     "output_type": "stream",
     "text": [
      "Happy New Year: Thanh\n",
      "Happy New Year: Peter\n",
      "Happy New Year: Thomas\n",
      "Done\n"
     ]
    }
   ],
   "source": [
    "# Definite loops with strings \n",
    "friends = ['Thanh', 'Peter', 'Thomas']\n",
    "for friend in friends:\n",
    "    print('Happy New Year:', friend)\n",
    "print('Done')"
   ]
  },
  {
   "cell_type": "markdown",
   "metadata": {},
   "source": [
    "## 5.3 Smarter loops"
   ]
  },
  {
   "cell_type": "markdown",
   "metadata": {},
   "source": [
    "### Finding the Largest Number"
   ]
  },
  {
   "cell_type": "code",
   "execution_count": null,
   "metadata": {},
   "outputs": [
    {
     "name": "stdout",
     "output_type": "stream",
     "text": [
      "Before -1\n",
      "9 9\n",
      "41 41\n",
      "41 12\n",
      "41 3\n",
      "74 74\n",
      "74 13\n",
      "After 74\n"
     ]
    }
   ],
   "source": [
    "largest_so_far = -1 \n",
    "print('Before', largest_so_far)\n",
    "for num in [9, 41, 12, 3, 74, 13]:\n",
    "    if num > largest_so_far:\n",
    "        largest_so_far = num\n",
    "    print(largest_so_far, num)\n",
    "print('After', largest_so_far)"
   ]
  },
  {
   "cell_type": "markdown",
   "metadata": {},
   "source": [
    "### Counting in a Loop"
   ]
  },
  {
   "cell_type": "code",
   "execution_count": null,
   "metadata": {},
   "outputs": [
    {
     "name": "stdout",
     "output_type": "stream",
     "text": [
      "Before 0\n",
      "1 9\n",
      "2 41\n",
      "3 12\n",
      "4 3\n",
      "5 74\n",
      "6 15\n",
      "After 6\n"
     ]
    }
   ],
   "source": [
    "count = 0 \n",
    "print('Before', count)\n",
    "for thing in [9, 41, 12, 3, 74, 15]:\n",
    "    count = count + 1\n",
    "    print(count, thing)\n",
    "print('After', count)"
   ]
  },
  {
   "cell_type": "markdown",
   "metadata": {},
   "source": [
    "### Summing in a Loop"
   ]
  },
  {
   "cell_type": "code",
   "execution_count": null,
   "metadata": {},
   "outputs": [
    {
     "name": "stdout",
     "output_type": "stream",
     "text": [
      "Before 0\n",
      "9 9\n",
      "50 41\n",
      "62 12\n",
      "65 3\n",
      "139 74\n",
      "154 15\n",
      "After 154\n"
     ]
    }
   ],
   "source": [
    "total = 0\n",
    "print('Before', total)\n",
    "for thing in [9, 41, 12, 3, 74, 15]:\n",
    "    total = total + thing \n",
    "    print(total, thing)\n",
    "print('After', total)"
   ]
  },
  {
   "cell_type": "markdown",
   "metadata": {},
   "source": [
    "### Flitering in a Loop (`if`)"
   ]
  },
  {
   "cell_type": "code",
   "execution_count": null,
   "metadata": {},
   "outputs": [
    {
     "name": "stdout",
     "output_type": "stream",
     "text": [
      "Before\n",
      "Large number 41\n",
      "Large number 74\n",
      "After\n"
     ]
    }
   ],
   "source": [
    "print('Before')\n",
    "for value in [9, 41, 12, 3, 74, 15]:\n",
    "    if value > 20:\n",
    "        print('Large number', value)\n",
    "print('After')"
   ]
  },
  {
   "cell_type": "markdown",
   "metadata": {},
   "source": [
    "### Searching in a Loop (`Boolean`)"
   ]
  },
  {
   "cell_type": "code",
   "execution_count": null,
   "metadata": {},
   "outputs": [
    {
     "name": "stdout",
     "output_type": "stream",
     "text": [
      "Before False\n",
      "False 9\n",
      "False 41\n",
      "False 12\n",
      "True 3\n",
      "True 74\n",
      "True 15\n",
      "After True\n"
     ]
    }
   ],
   "source": [
    "found = False\n",
    "print('Before', found)\n",
    "for value in [9, 41, 12, 3, 74, 15]:\n",
    "    if value == 3:\n",
    "        found = True \n",
    "    print(found, value)\n",
    "print('After', found)"
   ]
  },
  {
   "cell_type": "markdown",
   "metadata": {},
   "source": [
    "### Finding the Smallest Value"
   ]
  },
  {
   "cell_type": "code",
   "execution_count": null,
   "metadata": {},
   "outputs": [
    {
     "name": "stdout",
     "output_type": "stream",
     "text": [
      "Before None\n",
      "9 9\n",
      "9 41\n",
      "9 12\n",
      "3 3\n",
      "3 74\n",
      "3 15\n",
      "After 3\n"
     ]
    }
   ],
   "source": [
    "smallest = None \n",
    "print('Before', smallest)\n",
    "for num in [9, 41, 12, 3, 74, 15]:\n",
    "    if smallest is None: # if it's empty, grab the first num\n",
    "        smallest = num\n",
    "    elif num < smallest:\n",
    "        smallest = num \n",
    "    print(smallest, num)\n",
    "print('After', smallest) \n",
    "\n"
   ]
  },
  {
   "cell_type": "markdown",
   "metadata": {},
   "source": [
    "- flaw in using -1 as a flag value\n",
    "- would use None instead and assign it as first number in list"
   ]
  },
  {
   "cell_type": "markdown",
   "metadata": {},
   "source": [
    "### `is` and `is not`"
   ]
  },
  {
   "cell_type": "markdown",
   "metadata": {},
   "source": [
    "- logical operators that returns True or False \n",
    "- \"is\" similar to == but stronger as can't convert mathematically (don't overuse)"
   ]
  },
  {
   "cell_type": "markdown",
   "metadata": {},
   "source": [
    "***"
   ]
  },
  {
   "cell_type": "markdown",
   "metadata": {},
   "source": [
    "## Worked Exercise:"
   ]
  },
  {
   "cell_type": "markdown",
   "metadata": {},
   "source": [
    "Write a program where the user repeatedly enters number until they enter 'done'. After done, print out the total, count and averages of number. If they enter smth other than a num, detect mistake. Try using `try` & `except` to print an error then skip the next num"
   ]
  },
  {
   "cell_type": "code",
   "execution_count": null,
   "metadata": {},
   "outputs": [
    {
     "name": "stdout",
     "output_type": "stream",
     "text": [
      "invalid input\n",
      "invalid input\n",
      "1.0\n",
      "2.0\n",
      "invalid input\n",
      "invalid input\n"
     ]
    }
   ],
   "source": [
    "count = 0\n",
    "tot = 0.0                       # very important its 0.0 when dealing with floats or code stops working \n",
    "while True:\n",
    "    sval = input('Enter a number: ')\n",
    "    if sval == 'done':\n",
    "        break                   # gets out if 'done' \n",
    "    try:\n",
    "        fval = float(sval)\n",
    "    except:\n",
    "        print('invalid input')\n",
    "        continue                # code goes up to while again\n",
    "    print(fval)\n",
    "    count = count + 1           # counter \n",
    "    tot = tot + fval            # total\n",
    "print('ALL DONE')\n",
    "print(tot, count, tot/count)    # total, counter, average "
   ]
  },
  {
   "cell_type": "markdown",
   "metadata": {},
   "source": [
    "## Assignment 5.2"
   ]
  },
  {
   "cell_type": "markdown",
   "metadata": {},
   "source": [
    "Write a program similar to above where user has to enter values. Should check for smallest & largest nums. If numbers aren't values should print an error and continue asking. If user enters 'done' program should print smallest & largest nums"
   ]
  },
  {
   "cell_type": "code",
   "execution_count": null,
   "metadata": {},
   "outputs": [
    {
     "name": "stdout",
     "output_type": "stream",
     "text": [
      "ALL DONE\n",
      "[]\n",
      "Maximum is None\n",
      "Minimum is None\n"
     ]
    }
   ],
   "source": [
    "largest = None\n",
    "smallest = None\n",
    "num_list = []\n",
    "\n",
    "while True:\n",
    "    num = input(\"Enter a number: \")\n",
    "    if num == \"done\":\n",
    "        break\n",
    "    try:\n",
    "        fnum = float(num)\n",
    "    except:\n",
    "        print('Invalid input')\n",
    "        continue\n",
    "    \n",
    "    num_list.append(fnum)\n",
    "    if smallest is None and largest is None:\n",
    "        smallest = fnum\n",
    "        largest = fnum\n",
    "        \n",
    "    for num in num_list:\n",
    "        if num < smallest:\n",
    "            smallest = num \n",
    "        elif num > largest:\n",
    "            largest = num\n",
    "print('ALL DONE')\n",
    "print(num_list)        \n",
    "print(\"Maximum is\", largest)\n",
    "print(\"Minimum is\", smallest)     "
   ]
  },
  {
   "cell_type": "markdown",
   "metadata": {},
   "source": [
    "***"
   ]
  }
 ],
 "metadata": {
  "language_info": {
   "name": "python"
  }
 },
 "nbformat": 4,
 "nbformat_minor": 2
}
